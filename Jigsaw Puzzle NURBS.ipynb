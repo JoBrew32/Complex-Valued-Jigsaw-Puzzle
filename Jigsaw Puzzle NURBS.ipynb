{
  "metadata": {
    "kernelspec": {
      "name": "python",
      "display_name": "Python (Pyodide)",
      "language": "python"
    },
    "language_info": {
      "codemirror_mode": {
        "name": "python",
        "version": 3
      },
      "file_extension": ".py",
      "mimetype": "text/x-python",
      "name": "python",
      "nbconvert_exporter": "python",
      "pygments_lexer": "ipython3",
      "version": "3.8"
    }
  },
  "nbformat_minor": 4,
  "nbformat": 4,
  "cells": [
    {
      "cell_type": "code",
      "source": "from matplotlib import pyplot as plt\nimport numpy as np\n\ntest_point_1 = (0,0)\ntest_point_2 = (1,1)",
      "metadata": {
        "trusted": true
      },
      "outputs": [],
      "execution_count": 3
    },
    {
      "cell_type": "markdown",
      "source": "# General Tools\n\nThis block of code has functions for distance, magnitude or length, midpoint calculation, and the warping functions.",
      "metadata": {}
    },
    {
      "cell_type": "code",
      "source": "def Distance(p_1, p_2):\n    p_1x, p_1y = p_1\n    p_2x, p_2y = p_2\n\n    return np.sqrt((p_2x-p_1x)**2 + (p_2y-p_1y)**2)\n\ndef Length(point):\n    return Distance(point, (0,0))\n\ndef Midpoint(p_1, p_2):\n    x_1, y_1 = p_1\n    x_2, y_2 = p_2\n\n    midpoint_x = 0.5*(x_1+x_2)\n    midpoint_y = 0.5*(y_1+y_2)\n\n    midpoint = (midpoint_x, midpoint_y)\n\n    return midpoint\n\n\ndef Complex_Function(point):\n    p_x, p_y = point\n    output_x = p_x/(Length(point)**2)\n    output_y = -p_y/(Length(point)**2)\n\n    return (output_x, output_y)\n\ndef Stretch_Swirl_Function(center_point, input_point,coeff_stretch, coeff_swirl):\n    in_x, in_y = input_point\n    points_distance = Distance(center_point, input_point)\n\n    modifier_stretch = (points_distance**2 + 1)/coeff_stretch\n    modifier_swirl = coeff_swirl/(points_distance**2 + 1)\n\n    out_x = modifier_stretch*(np.cos(modifier_swirl)*in_x + np.sin(modifier_swirl)*in_y)\n    out_y = modifier_stretch*(-np.sin(modifier_swirl)*in_x + np.cos(modifier_swirl)*in_y)\n\n    return (out_x, out_y)             ",
      "metadata": {
        "trusted": true
      },
      "outputs": [],
      "execution_count": 51
    },
    {
      "cell_type": "markdown",
      "source": "# Grid and Edges\n\nHere the grid of points is generated along with the class \"Puzzle_Edge\" is defined. Puzzle_Edge is a class to defined to have the end points of the puzzle edge, find the midpoint, and then set two spots for the \"anchor points\". The anchor points will be calculated later on to create the jigsaw shape with the NURB spline.",
      "metadata": {}
    },
    {
      "cell_type": "code",
      "source": "def Grid_Points(number_points):\n    input_x_value = np.arange(-number_points, number_points)\n    input_y_value = np.arange(-number_points, number_points)\n\n    input_points = [(i,j) for i in input_x_value for j in input_y_value]\n    return input_points\n\nclass Puzzle_Edge:\n    def __init__(self, lesser_endpoint=None, greater_endpoint=None):\n        self.lesser_endpoint = lesser_endpoint\n        self.lesser_anchor = None\n        self.midpoint = Midpoint(lesser_endpoint, greater_endpoint)\n        self.lesser_anchor = None\n        self.greater_endpoint = greater_endpoint\n\ndef Horizontal_Edges(points):\n    horizontal_edges = []\n    for point in points:\n        h_edge = Puzzle_Edge(point,(point[0]+1,point[1]))\n        horizontal_edges += [h_edge]\n    return horizontal_edges\n\ndef Vertical_Edges(points):\n    vertical_edges = []\n    for point in points:\n        v_edge = Puzzle_Edge(point,(point[0],point[1]+1))\n        vertical_edges += [v_edge]\n    return vertical_edges\n    ",
      "metadata": {
        "trusted": true
      },
      "outputs": [],
      "execution_count": 65
    },
    {
      "cell_type": "code",
      "source": "test_grid = Grid_Points(2)\ntest_horizontal_edges = Horizontal_Edges(test_grid)\ntest_vertical_edges = Vertical_Edges(test_grid)",
      "metadata": {
        "trusted": true
      },
      "outputs": [],
      "execution_count": 64
    },
    {
      "cell_type": "code",
      "source": "def Uniform_Knot_Vector(number_points, order):\n    return np.arange(number_points + order + 1)\n\ndef Rising_Basis(knot_vector, index, order, time):\n    if (knot_vector[index] == knot_vector[index + order]):\n        return 0\n    return (time - knot_vector[index])/(knot_vector[index+order] - knot_vector[index])\n\n\ndef Falling_Basis(knot_vector, index, order, time):\n    return 1-Rising_Basis(knot_vector, index, order, time)\n\ndef N_Basis(knot_vector, index, order, time):\n    if (order == 0):\n        if (knot_vector[index] <= time <= knot_vector[index+1]):\n            return 1\n        else:\n            return 0\n    else:\n        rising_output = Rising_Basis(knot_vector, index, order, time)*N_Basis(knot_vector, index, order-1, time)\n        falling_output = Falling_Basis(knot_vector, index+1, order, time)*N_Basis(knot_vector, index+1, order-1, time)\n        return rising_output + falling_output\n\ndef NURBS_Coefficients(knot_vector, weights, index, order, time):\n    length = len(weights)\n    normalize_constant = sum([N_Basis(knot_vector, j, order, time)*weight for j, weight in zip(range(length),weights)])\n\n    return N_Basis(knot_vector, index,order,time)*weights[index]/normalize_constant\n\ndef NURBS(points,order,weights):\n    knot_vector = np.arange(len(points) + order + 1)\n    ",
      "metadata": {
        "trusted": true
      },
      "outputs": [],
      "execution_count": 96
    }
  ]
}