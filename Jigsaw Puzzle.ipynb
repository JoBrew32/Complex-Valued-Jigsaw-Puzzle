{
  "metadata": {
    "kernelspec": {
      "name": "python",
      "display_name": "Python (Pyodide)",
      "language": "python"
    },
    "language_info": {
      "codemirror_mode": {
        "name": "python",
        "version": 3
      },
      "file_extension": ".py",
      "mimetype": "text/x-python",
      "name": "python",
      "nbconvert_exporter": "python",
      "pygments_lexer": "ipython3",
      "version": "3.8"
    }
  },
  "nbformat_minor": 4,
  "nbformat": 4,
  "cells": [
    {
      "cell_type": "code",
      "source": "from matplotlib import pyplot as plt\nimport numpy as np\n\ntest_point_1 = (0,0)\ntest_point_2 = (1,1)",
      "metadata": {
        "trusted": true
      },
      "outputs": [],
      "execution_count": 21
    },
    {
      "cell_type": "markdown",
      "source": "# Grid Bending\n\nThe code below is what distorts the grid and integer lattice.",
      "metadata": {}
    },
    {
      "cell_type": "code",
      "source": "def Distance(p_1, p_2):\n    p_1x, p_1y = p_1\n    p_2x, p_2y = p_2\n\n    return np.sqrt((p_2x-p_1x)**2 + (p_2y-p_1y)**2)\n\ndef Length(point):\n    return Distance(point, (0,0))\n\ndef Complex_Function(point):\n    p_x, p_y = point\n    output_x = p_x/(Length(point)**2)\n    output_y = -p_y/(Length(point)**2)\n\n    return (output_x, output_y)\n\ndef Stretch_Swirl_Function(center_point, input_point,coeff_stretch, coeff_swirl):\n    in_x, in_y = input_point\n    points_distance = Distance(center_point, input_point)\n\n    modifier_stretch = (points_distance**2 + 1)/coeff_stretch\n    modifier_swirl = coeff_swirl/(points_distance**2 + 1)\n\n    out_x = modifier_stretch*(np.cos(modifier_swirl)*in_x + np.sin(modifier_swirl)*in_y)\n    out_y = modifier_stretch*(-np.sin(modifier_swirl)*in_x + np.cos(modifier_swirl)*in_y)\n\n    return (out_x, out_y)\n\n             ",
      "metadata": {
        "trusted": true
      },
      "outputs": [],
      "execution_count": 19
    },
    {
      "cell_type": "code",
      "source": "def Grid_Points(number_points):\n    input_x_value = np.linspace(-1,1,number_points)\n    input_y_value = np.linspace(-1,1,number_points)\n\n    input_points = [(i,j) for i in input_x_value for j in input_y_value]\n\n    return input_points",
      "metadata": {
        "trusted": true
      },
      "outputs": [],
      "execution_count": 27
    }
  ]
}